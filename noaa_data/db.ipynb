{
 "cells": [
  {
   "cell_type": "code",
   "execution_count": 32,
   "metadata": {},
   "outputs": [],
   "source": [
    "#Import library\n",
    "import sqlite3 as sq\n",
    "import csv"
   ]
  },
  {
   "cell_type": "code",
   "execution_count": 33,
   "metadata": {},
   "outputs": [],
   "source": [
    "#Create a connection to the database\n",
    "con = sq.connect(\"noaa_data.db\")"
   ]
  },
  {
   "cell_type": "code",
   "execution_count": 34,
   "metadata": {},
   "outputs": [],
   "source": [
    "#Create cursos for the current session\n",
    "cur = con.cursor()"
   ]
  },
  {
   "cell_type": "code",
   "execution_count": 38,
   "metadata": {},
   "outputs": [
    {
     "data": {
      "text/plain": [
       "<sqlite3.Cursor at 0x7f4a3deb4140>"
      ]
     },
     "execution_count": 38,
     "metadata": {},
     "output_type": "execute_result"
    }
   ],
   "source": [
    "#Create table\n",
    "cur.execute(\"\"\"\n",
    "CREATE TABLE noaaprcp (\n",
    "    date TEXT,        -- Keeping as TEXT for easy date handling\n",
    "    datatype TEXT,    \n",
    "    station TEXT,     \n",
    "    value REAL,      \n",
    "    city TEXT\n",
    ")\n",
    "\"\"\")"
   ]
  },
  {
   "cell_type": "code",
   "execution_count": 39,
   "metadata": {},
   "outputs": [
    {
     "data": {
      "text/plain": [
       "('noaaprcp',)"
      ]
     },
     "execution_count": 39,
     "metadata": {},
     "output_type": "execute_result"
    }
   ],
   "source": [
    "#Check if table exists in the database\n",
    "res = cur.execute(\"SELECT name FROM sqlite_master\")\n",
    "res.fetchone()"
   ]
  },
  {
   "cell_type": "code",
   "execution_count": 46,
   "metadata": {},
   "outputs": [],
   "source": [
    "#Opening the csv file and storing data in a list-object\n",
    "with open(\"noaa_data.csv\",\"r\",encoding=\"utf-8\") as csvfile:\n",
    "    reader = csv.reader(csvfile, delimiter=\",\")\n",
    "    next(reader, None)\n",
    "    data = []\n",
    "    \n",
    "    for i in reader:\n",
    "        i[3] = float(i[3])\n",
    "        data.append(tuple(i))\n",
    "\n"
   ]
  },
  {
   "cell_type": "code",
   "execution_count": 47,
   "metadata": {},
   "outputs": [],
   "source": [
    "#Insert data values into noaprcp table\n",
    "cur.executemany(\"INSERT into noaaprcp VALUES(?,?,?,?,?)\",data)\n",
    "#Commit\n",
    "con.commit()"
   ]
  },
  {
   "cell_type": "code",
   "execution_count": 48,
   "metadata": {},
   "outputs": [
    {
     "data": {
      "text/plain": [
       "[(500,)]"
      ]
     },
     "execution_count": 48,
     "metadata": {},
     "output_type": "execute_result"
    }
   ],
   "source": [
    "#Select query number 1\n",
    "sq1= cur.execute(\"SELECT COUNT(city) FROM noaaprcp\")\n",
    "sq1.fetchall()"
   ]
  },
  {
   "cell_type": "code",
   "execution_count": 49,
   "metadata": {},
   "outputs": [
    {
     "data": {
      "text/plain": [
       "[('1990-10-01', 'PRCP', 'GHCND:BR001555001', 247.6, 'Cuiaba, BR'),\n",
       " ('1990-10-01', 'PRCP', 'GHCND:BR001556000', 103.3, 'Cuiaba, BR'),\n",
       " ('1990-10-01', 'PRCP', 'GHCND:BR001556001', 170.1, 'Cuiaba, BR'),\n",
       " ('1990-10-01', 'PRCP', 'GHCND:BR002548000', 133.2, 'Curitiba, BR'),\n",
       " ('1990-10-01', 'PRCP', 'GHCND:BR002548001', 141.9, 'Curitiba, BR'),\n",
       " ('1990-10-01', 'PRCP', 'GHCND:BR002548038', 163.5, 'Curitiba, BR'),\n",
       " ('1990-10-01', 'PRCP', 'GHCND:BR002549004', 130.4, 'Curitiba, BR'),\n",
       " ('1990-10-01', 'PRCP', 'GHCND:BR002549017', 114.6, 'Curitiba, BR'),\n",
       " ('1990-10-01', 'PRCP', 'GHCND:BR002549041', 132.3, 'Curitiba, BR'),\n",
       " ('1990-10-01', 'PRCP', 'GHCND:BR002549075', 145.1, 'Curitiba, BR')]"
      ]
     },
     "execution_count": 49,
     "metadata": {},
     "output_type": "execute_result"
    }
   ],
   "source": [
    "#Select query number 2\n",
    "sq2 = cur.execute(\"SELECT * FROM noaaprcp LIMIT 10\")\n",
    "sq2.fetchall()"
   ]
  },
  {
   "cell_type": "code",
   "execution_count": 50,
   "metadata": {},
   "outputs": [],
   "source": [
    "#Closing connection\n",
    "con.close()"
   ]
  }
 ],
 "metadata": {
  "kernelspec": {
   "display_name": "trab_api",
   "language": "python",
   "name": "python3"
  },
  "language_info": {
   "codemirror_mode": {
    "name": "ipython",
    "version": 3
   },
   "file_extension": ".py",
   "mimetype": "text/x-python",
   "name": "python",
   "nbconvert_exporter": "python",
   "pygments_lexer": "ipython3",
   "version": "3.10.14"
  }
 },
 "nbformat": 4,
 "nbformat_minor": 2
}
