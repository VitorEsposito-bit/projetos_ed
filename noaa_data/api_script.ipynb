{
 "cells": [
  {
   "cell_type": "code",
   "execution_count": 1,
   "metadata": {},
   "outputs": [],
   "source": [
    "#Libraries import\n",
    "import requests\n",
    "import pandas as pd\n",
    "import os"
   ]
  },
  {
   "cell_type": "code",
   "execution_count": 2,
   "metadata": {},
   "outputs": [],
   "source": [
    "#Function to get token from txt file\n",
    "def get_token():\n",
    "    path_ = os.path.join(os.getcwd(), \"token_api.txt\")\n",
    "    if os.path.exists(path_):\n",
    "        with open(f\"{path_}\",encoding=\"utf-8\",mode=\"r\") as txt_file:\n",
    "            token = txt_file.read().strip()\n",
    "            return token\n",
    "    else:\n",
    "        print(\"Token file not found.\")\n",
    "        return None\n",
    "\n",
    "#Function to get data from API\n",
    "def get_data(url, params, token):\n",
    "    response = requests.get(url,params=params,headers={\"token\":token})\n",
    "    if response.status_code == 200:\n",
    "        return response.status_code, response.json()\n",
    "    else:\n",
    "        print(f\"Error: {response.status_code} : {response.text}\")\n",
    "        return None\n",
    "\n",
    "#Function to save data to csv\n",
    "def save_data_to_csv(df):\n",
    "    if df is not None:\n",
    "        df.to_csv(path_or_buf=os.path.join(os.getcwd(), \"noaa_data.csv\"), index=False)\n",
    "        print(\"Operation was successful.\")\n",
    "    else:\n",
    "        print(\"No data to save.\")\n",
    "\n",
    "#Function to convert json into a dataframe\n",
    "def to_pandas(response_data):\n",
    "    #Transform data into a pandas dataframe\n",
    "    df = pd.DataFrame(response_data[\"results\"])\n",
    "    #Drop the column attributes (values from this column are not important)\n",
    "    df.drop(\"attributes\",inplace=True,axis=1)\n",
    "    return df\n",
    "\n",
    "#Function to map the city to the referring station\n",
    "def map_city(x):\n",
    "    station = x[\"station\"].split(\":\")[1]\n",
    "    if \"BR0015\" in station:\n",
    "        return \"Cuiaba, BR\"\n",
    "    elif \"BR0025\" in station:\n",
    "        return \"Curitiba, BR\"\n",
    "    else:\n",
    "        return \"Florianopolis, BR\"\n",
    "\n",
    "#Function to transform the dataframe\n",
    "def df_transformation(df):\n",
    "    df[\"date\"] = pd.to_datetime(df.apply(lambda x: x[\"date\"].split(\"T\")[0].strip(),axis=1))\n",
    "    df[\"value\"] = df[\"value\"].astype(float)\n",
    "    df[\"city\"] = df.apply(map_city,axis=1)\n",
    "    return df"
   ]
  },
  {
   "cell_type": "code",
   "execution_count": 3,
   "metadata": {},
   "outputs": [],
   "source": [
    "#URL base\n",
    "URL_BASE = \"https://www.ncei.noaa.gov/cdo-web/api/v2/data\"\n",
    "\n",
    "\n",
    "#API parameters\n",
    "params_get = {\"datasetid\":\"GSOM\",\n",
    "        \"startdate\":\"1990-10-01\",\n",
    "        \"enddate\":\"2000-01-22\",\n",
    "        \"limit\":500,\n",
    "        \"datatypeid\":\"PRCP\",\n",
    "        \"includemetadata\":False,\n",
    "        \"locationid\":[\"CITY:BR000007\",\"CITY:BR000008\",\"CITY:BR000009\"]\n",
    "        }\n",
    "\n",
    "#Get token from txt file\n",
    "token = get_token()"
   ]
  },
  {
   "cell_type": "code",
   "execution_count": 4,
   "metadata": {},
   "outputs": [],
   "source": [
    "if token is not None:\n",
    "    #Store data and status code from api two variables\n",
    "    response_status_code, response_data = get_data(url=URL_BASE, params=params_get,token=token)\n",
    "    if \"results\" in response_data:\n",
    "        df = to_pandas(response_data=response_data)"
   ]
  },
  {
   "cell_type": "code",
   "execution_count": 5,
   "metadata": {},
   "outputs": [],
   "source": [
    "#Transforming dataframe\n",
    "df_final = df_transformation(df=df)"
   ]
  },
  {
   "cell_type": "code",
   "execution_count": null,
   "metadata": {},
   "outputs": [],
   "source": [
    "#Call function to save data to csv file\n",
    "save_data_to_csv(df=df_final)"
   ]
  }
 ],
 "metadata": {
  "kernelspec": {
   "display_name": "trab_api",
   "language": "python",
   "name": "python3"
  },
  "language_info": {
   "codemirror_mode": {
    "name": "ipython",
    "version": 3
   },
   "file_extension": ".py",
   "mimetype": "text/x-python",
   "name": "python",
   "nbconvert_exporter": "python",
   "pygments_lexer": "ipython3",
   "version": "3.10.14"
  }
 },
 "nbformat": 4,
 "nbformat_minor": 2
}
